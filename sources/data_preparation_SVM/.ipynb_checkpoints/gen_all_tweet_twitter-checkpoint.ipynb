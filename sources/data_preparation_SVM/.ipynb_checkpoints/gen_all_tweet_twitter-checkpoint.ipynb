{
 "cells": [
  {
   "cell_type": "code",
   "execution_count": 1,
   "metadata": {},
   "outputs": [],
   "source": [
    "import json\n",
    "import csv\n",
    "import numpy as np\n",
    "import pandas as pd"
   ]
  },
  {
   "cell_type": "code",
   "execution_count": 2,
   "metadata": {},
   "outputs": [],
   "source": [
    "def toLabel(label):\n",
    "    if label =='ongoing-event':\n",
    "        return 0\n",
    "    elif label =='news':\n",
    "        return 1\n",
    "    elif label =='meme':\n",
    "        return 2\n",
    "    elif label =='commemorative':\n",
    "        return 3"
   ]
  },
  {
   "cell_type": "code",
   "execution_count": 3,
   "metadata": {},
   "outputs": [],
   "source": [
    "dataset = []\n",
    "count = [0,0,0,0]\n",
    "#read every trending and export json file\n",
    "with open('../../data/TT-annotations.csv', newline='', encoding=\"utf8\") as csvfile:\n",
    "    trendingTopicArr = csv.reader(csvfile, delimiter=';')\n",
    "    for trendingTopic in trendingTopicArr:\n",
    "        path='../../../features/'+trendingTopic[0]+'.json'\n",
    "        data = json.load(open(path))\n",
    "        numberItem = len(data)\n",
    "        curLabel = toLabel(trendingTopic[3])\n",
    "        count[curLabel]+=1\n",
    "        if (numberItem > 0):\n",
    "            for tweetJson in data:\n",
    "                tweetJson = data[tweetJson]\n",
    "                dataset.append([trendingTopic[3], tweetJson['tweet'].replace(\"RT \",\"\")])\n",
    "dataset = np.array(dataset)\n",
    "df = pd.DataFrame(data=dataset[0:,0:],    # values\n",
    "             columns=['label', 'tweet'])"
   ]
  },
  {
   "cell_type": "code",
   "execution_count": 5,
   "metadata": {},
   "outputs": [],
   "source": [
    "df.to_csv(\"ds_tweet_all.csv\", sep='\\t', encoding='utf-8')"
   ]
  }
 ],
 "metadata": {
  "kernelspec": {
   "display_name": "Python 3",
   "language": "python",
   "name": "python3"
  },
  "language_info": {
   "codemirror_mode": {
    "name": "ipython",
    "version": 3
   },
   "file_extension": ".py",
   "mimetype": "text/x-python",
   "name": "python",
   "nbconvert_exporter": "python",
   "pygments_lexer": "ipython3",
   "version": "3.6.4"
  }
 },
 "nbformat": 4,
 "nbformat_minor": 2
}
