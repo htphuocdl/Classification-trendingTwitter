{
 "cells": [
  {
   "cell_type": "code",
   "execution_count": 1,
   "metadata": {},
   "outputs": [],
   "source": [
    "import json\n",
    "import csv\n",
    "from generateFeature import generateFeature"
   ]
  },
  {
   "cell_type": "code",
   "execution_count": 2,
   "metadata": {},
   "outputs": [],
   "source": [
    "trendingTopicArr=[]\n",
    "\n",
    "data = json.load(open('output.json'))\n",
    "arrVectors = []\n",
    "\n",
    "toCur = False\n",
    "\n",
    "#read every trending and export json file\n",
    "with open('../../data/TT-annotations.csv', newline='', encoding=\"utf8\") as csvfile:\n",
    "    trendingTopicArr = csv.reader(csvfile, delimiter=';')\n",
    "    for trendingTopic in trendingTopicArr:\n",
    "        path='../../../features/'+trendingTopic[0]+'.json'\n",
    "        temp = generateFeature(trendingTopic[2], path, trendingTopic[3])\n",
    "        if temp != None: arrVectors.append(temp)"
   ]
  },
  {
   "cell_type": "code",
   "execution_count": 3,
   "metadata": {},
   "outputs": [],
   "source": [
    "columns = [   'ratio_retweets',\n",
    "              'hashtags',\n",
    "              'length',\n",
    "              'exclamations',\n",
    "              'questions',\n",
    "              'links',\n",
    "              'topicRepetition',\n",
    "              'replies',\n",
    "              'spreadVelocity',\n",
    "              'user_diversity',\n",
    "              'retweeted_user_diversity',\n",
    "              'hashtag_diversity',\n",
    "              'language_diversity',\n",
    "              'vocabulary_diversity',\n",
    "              'class']"
   ]
  },
  {
   "cell_type": "code",
   "execution_count": 4,
   "metadata": {},
   "outputs": [],
   "source": [
    "import pandas as pd\n",
    "\n",
    "# Importing the dataset\n",
    "dataset = pd.DataFrame(arrVectors, columns=columns)"
   ]
  },
  {
   "cell_type": "code",
   "execution_count": 5,
   "metadata": {},
   "outputs": [],
   "source": [
    "dataset.to_csv(\"ds_feature_all.csv\", sep='\\t', encoding='utf-8')"
   ]
  },
  {
   "cell_type": "code",
   "execution_count": null,
   "metadata": {},
   "outputs": [],
   "source": []
  }
 ],
 "metadata": {
  "kernelspec": {
   "display_name": "Python 3",
   "language": "python",
   "name": "python3"
  },
  "language_info": {
   "codemirror_mode": {
    "name": "ipython",
    "version": 3
   },
   "file_extension": ".py",
   "mimetype": "text/x-python",
   "name": "python",
   "nbconvert_exporter": "python",
   "pygments_lexer": "ipython3",
   "version": "3.6.5"
  }
 },
 "nbformat": 4,
 "nbformat_minor": 2
}
